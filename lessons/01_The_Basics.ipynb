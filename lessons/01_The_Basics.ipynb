{
 "cells": [
  {
   "cell_type": "markdown",
   "metadata": {},
   "source": [
    "# Lesson 1: The Basics\n",
    "\n",
    "**Teaching:** 30 min   \n",
    "**Practice:** 15 min   \n",
    "**Questions:**   \n",
    "- What are variables?\n",
    "- How can you use them?\n",
    "- What type of variables are there?\n",
    "- How do you operate with variables?\n",
    "- How do we evaluate conditions?\n",
    "- How do we choose between several options?\n",
    "- Can we have a default course of action?\n",
    "- What are loops useful for?\n",
    "- What are the components of a loop?\n",
    "- How can we control the evolution of a loop?\n",
    "\n",
    "**Objectives:**\n",
    "- Refresh the basic concepts of Python programming.\n",
    "- Clarify doubts to the attendees.\n",
    "- Get familiar with the Jupyter Lab interface\n",
    "\n",
    "**Key points:**\n",
    "- The building blocks of any python program are variables and control statements like conditionals and loops.\n",
    "- Control statements can be nested to create complex execution pipelines."
   ]
  },
  {
   "cell_type": "markdown",
   "metadata": {},
   "source": [
    "---"
   ]
  },
  {
   "cell_type": "markdown",
   "metadata": {},
   "source": [
    "# Variables\n",
    "\n",
    "- Variables are used to store information\n",
    "- Their name can contain:\n",
    "    - Upper and lower case letters A-Z, a-z\n",
    "    - Numbers 0-9\n",
    "    - Underscore _\n",
    "- But, the name cannot start with a number!\n",
    "- Variables can be used wherever you can use the information they store\n",
    "- It is good practice to give variables meaningful names, related with the information they store\n",
    "- Values are asigned to a variable using the equal (=) sign."
   ]
  },
  {
   "cell_type": "code",
   "execution_count": 2,
   "metadata": {},
   "outputs": [],
   "source": []
  },
  {
   "cell_type": "markdown",
   "metadata": {},
   "source": [
    "# Data Types\n",
    "\n",
    "- The information stored in a variable can be of different types\n",
    "    - Integer numbers (**int**)\n",
    "    - Real numbers (**float**)\n",
    "    - Complex numbers (**complex**)\n",
    "    - Logical or boolean (**bool**)\n",
    "    - Strings (**str**)\n",
    "- The type of a variable can be found using the built-in function `type` (eg. type(my_value) ).\n",
    "- Some functions, including mathematical operations, can only be used with certain data types\n",
    "\n",
    "Knowing the type of an object is very important to avoid errors!!"
   ]
  },
  {
   "cell_type": "code",
   "execution_count": null,
   "metadata": {},
   "outputs": [],
   "source": []
  },
  {
   "cell_type": "markdown",
   "metadata": {},
   "source": [
    "## Lists\n",
    "- **Ordered** collection of other objects\n",
    "- Are created by listing the other objects between square brackets, separated with commas\n",
    "- Individual elmenents are accessed by using square brackets [] and the location, stariting in 0 for the first element.\n",
    "- You can add a new element to the end of the list by using the method `append`.\n",
    "- More information on what you can do with lists [in the official documentation](https://docs.python.org/3/tutorial/datastructures.html#more-on-lists). "
   ]
  },
  {
   "cell_type": "code",
   "execution_count": null,
   "metadata": {},
   "outputs": [],
   "source": []
  },
  {
   "cell_type": "markdown",
   "metadata": {},
   "source": [
    "## Dictionaries\n",
    "- **Disordered** collection of objects\n",
    "- Are creeated by listing key: value pairs between curly brackets, separated with commas\n",
    "- Individual elements are accessed by using square brackets [] and the key of the element of interest\n",
    "- More information on what you can do with dictionaries [in the official documentation](https://docs.python.org/3/library/stdtypes.html#mapping-types-dict)"
   ]
  },
  {
   "cell_type": "code",
   "execution_count": null,
   "metadata": {},
   "outputs": [],
   "source": []
  },
  {
   "cell_type": "markdown",
   "metadata": {},
   "source": [
    "There are many more built-in data types in Python, like `tuple` or `set`, and other more specific ones like `OrderedDict`. You can have a look at them at the package [collections](https://docs.python.org/3.8/library/collections.html) of the Python standard library. "
   ]
  },
  {
   "cell_type": "markdown",
   "metadata": {},
   "source": [
    "----"
   ]
  },
  {
   "cell_type": "markdown",
   "metadata": {},
   "source": [
    "# Conditional statements: the `if` statement\n",
    "- This is the simplest conditional statement.\n",
    "- It can be read as \n",
    "\n",
    "``` python\n",
    "if some_condition_is_true: \n",
    "    (do some stuff)\n",
    "```\n",
    "            \n",
    "- It has to start with the word `if` followed by a conditon that can be `True` or `False`, and **MUST** finish with a colon (:).\n",
    "- The body of the conditional statement (do some stuff) **MUST** be indented with respect the opening statement\n",
    "    - If the condition is `True`, (do some stuff) is excecuted\n",
    "    - If it is `False`, that part of the code is ignored and the execution continues with the next line of code that has the same indentation than the opening `if`"
   ]
  },
  {
   "cell_type": "code",
   "execution_count": null,
   "metadata": {},
   "outputs": [],
   "source": []
  },
  {
   "cell_type": "markdown",
   "metadata": {},
   "source": [
    "## Conditional operators\n",
    "- **Comparison operators** work with numbers (ocasionally with strings, too, but ignore that, for now):\n",
    "    - Equal to: `==`\n",
    "    - Not equal to: `!=`\n",
    "    - Greater than, greater than or equal to: `>` ,`>=`\n",
    "    - Less than, less than or equal to: `<` , `<=`\n",
    "- **Logical operators** work on boolean variables: \n",
    "    - True y both are true: `and`\n",
    "    - True if one of them is true: `or`\n",
    "    - True if variable is false: `not`\n",
    "- Comparison operators are executed **BEFORE** logical operator from left to right.\n",
    "- Then logical operators are executed, with `not` before `and` and this before `or`."
   ]
  },
  {
   "cell_type": "code",
   "execution_count": null,
   "metadata": {},
   "outputs": [],
   "source": []
  },
  {
   "cell_type": "markdown",
   "metadata": {},
   "source": [
    "# `if` ... `else` \n",
    "- Used to chose between two possible options\n",
    "- If the condition is fullfiled, something is done; if it is not, something else is done. \n",
    "- Both `if` and `else` lines **MUST** finish with a colon (:)"
   ]
  },
  {
   "cell_type": "code",
   "execution_count": null,
   "metadata": {},
   "outputs": [],
   "source": []
  },
  {
   "cell_type": "markdown",
   "metadata": {},
   "source": [
    "# `if` ... `elif` ... `else` \n",
    "- To chose between several options. \n",
    "- There can be as many `elif` statements as needed. \n",
    "- There can be only one `else` (or none)\n",
    "- Conditions are evaluated from top to bottom\n",
    "    - First the condition of `if` is evaluated. If `True`, that block of the code is executed and then the program continues after the conditional statements.\n",
    "    - If it is `False`, then the condition for the first `elif` is evaluated; if this one is `True`, that block of the code is executed and then the program continues after the conditional statements.\n",
    "    - And so on...\n",
    "    - If none of the conditions is `True`, then the code of the `else` part (if present) is executed. "
   ]
  },
  {
   "cell_type": "code",
   "execution_count": null,
   "metadata": {},
   "outputs": [],
   "source": []
  },
  {
   "cell_type": "markdown",
   "metadata": {},
   "source": [
    "## Nested `if`\n",
    "- There can be `if` statemenst inside other `if` statements.\n",
    "- The nested `if`s have to be indented one more level.\n",
    "- Nested `if`s have to finish before the begining of the `elif` or `else` statements of the outer `if`, if present. "
   ]
  },
  {
   "cell_type": "code",
   "execution_count": null,
   "metadata": {},
   "outputs": [],
   "source": []
  },
  {
   "cell_type": "markdown",
   "metadata": {},
   "source": [
    "---"
   ]
  },
  {
   "cell_type": "markdown",
   "metadata": {},
   "source": [
    "# Loops\n",
    "\n",
    "- Loops are used to do repetitive actions.\n",
    "- They can be read as:\n",
    "\n",
    "```python\n",
    "for element in a_collection_of_elements:\n",
    "    (do some stuff)\n",
    "```\n",
    "\n",
    "- The opening statement of the loop uses the words `for` and `in` and **MUST** finish with a colon (:).\n",
    "- As with conditionals, the body of the loop (do some stuff) **MUST** be indented with respect the opening statement.\n",
    "- The `a_collection_of_elements` can be a list, a dictionary, a string, etc. Anything that is... well, a collection of elements.\n",
    "- The loop is repeated as many times as elements are in the collection.\n",
    "- `element` is called the index of the loop and takes one value from `a_collection_of_elements` sequencially."
   ]
  },
  {
   "cell_type": "code",
   "execution_count": null,
   "metadata": {},
   "outputs": [],
   "source": []
  },
  {
   "cell_type": "markdown",
   "metadata": {},
   "source": [
    "## Loop control\n",
    "- The loop will finish automatically when there are no more elements in `a_collection_of_elements`\n",
    "- It can finish earlier if something bad happens or on purpose with the word `break`\n",
    "- We can force to continue with the next element of the collection without finishing the block of code using the word `continue`.\n",
    "- Normally, `break` and `continue` are used inside an `if` statement"
   ]
  },
  {
   "cell_type": "code",
   "execution_count": null,
   "metadata": {},
   "outputs": [],
   "source": []
  },
  {
   "cell_type": "markdown",
   "metadata": {},
   "source": [
    "## Nested loops\n",
    "- These are loops within loops\n",
    "- They are written in exactly the same way, but have to be indented one more level, as with nested conditionals. "
   ]
  },
  {
   "cell_type": "code",
   "execution_count": null,
   "metadata": {},
   "outputs": [],
   "source": []
  }
 ],
 "metadata": {
  "kernelspec": {
   "display_name": "Python 3",
   "language": "python",
   "name": "python3"
  },
  "language_info": {
   "codemirror_mode": {
    "name": "ipython",
    "version": 3
   },
   "file_extension": ".py",
   "mimetype": "text/x-python",
   "name": "python",
   "nbconvert_exporter": "python",
   "pygments_lexer": "ipython3",
   "version": "3.8.3"
  }
 },
 "nbformat": 4,
 "nbformat_minor": 4
}
