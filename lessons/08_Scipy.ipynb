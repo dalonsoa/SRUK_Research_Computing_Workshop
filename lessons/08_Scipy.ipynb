{
 "cells": [
  {
   "cell_type": "markdown",
   "metadata": {},
   "source": [
    "# Lesson 8: Scipy\n",
    "\n",
    "**Teaching:** 20 min   \n",
    "**Practice:** 20 min   \n",
    "**Questions:**\n",
    "- How do you interpolate or smooth your data?\n",
    "- How do you fit your data to a theoretical formula?\n",
    "- How do you solve system of diferential equations?\n",
    "\n",
    "**Objectives:**\n",
    "- Describe what general tools scipy offers.\n",
    "- Apply simple interpolation functions.\n",
    "- Fit your data to a given formula.\n",
    "\n",
    "**Key points:**\n",
    "- Scipy is a heavy duty collection of algorithms to tackle problems in algebra and calculus.\n",
    "- It is a very extensive library with multitude of solvers with different strengths and weaknesses. "
   ]
  },
  {
   "cell_type": "markdown",
   "metadata": {},
   "source": [
    "# SciPy and numpy (already seen)\n",
    "\n",
    "- More interesting for people working in **physical sciences and engineering**.\n",
    "- **Numpy** and **SciPy** are [the Python answer to **MATLAB** users](https://docs.scipy.org/doc/numpy/user/numpy-for-matlab-users.html).\n",
    "- If numpy provides the structures (arrays), Scipy provides the methods.\n",
    "- It can be used to solve:\n",
    "    - Linear algebra problems\n",
    "    - Fourier transform problems\n",
    "    - Random number capabilities\n",
    "    - Ordinary and partial diferential equations\n",
    "    - Equations root finding\n",
    "    - Optimization routines\n",
    "    - Fitting experimental data\n",
    "- [Scipy](https://docs.scipy.org/doc/scipy/reference/index.html) package has many subpackages and you often import just the function or class you need, and not scipy as a whole.\n",
    "- Since we are going to plot things, let's configure Matplotlib again executing the following cell.\n"
   ]
  },
  {
   "cell_type": "code",
   "execution_count": 25,
   "metadata": {},
   "outputs": [],
   "source": [
    "%matplotlib inline\n",
    "import matplotlib\n",
    "matplotlib.rcParams['figure.dpi'] = 150"
   ]
  },
  {
   "cell_type": "markdown",
   "metadata": {},
   "source": [
    "# Interpolation [`scipy.interpolate`](https://docs.scipy.org/doc/scipy/reference/interpolate.html)\n",
    "\n",
    "- Subpackage with over 50 functions used to interpolare 1D, 2D and N dimensional data under different conditions and using different algorithms. \n",
    "- The simplest function is [`interp1d`](https://docs.scipy.org/doc/scipy/reference/generated/scipy.interpolate.interp1d.html#scipy.interpolate.interp1d), which allows for several types of interpolation and also to extrapolate.\n",
    "\n",
    "```python\n",
    "import numpy as np\n",
    "import matplotlib.pyplot as plt\n",
    "from scipy.interpolate import interp1d\n",
    "\n",
    "x = np.random.uniform(-2*np.pi, 2*np.pi, 20)\n",
    "y = np.sin(x)\n",
    "plt.plot(x, y, \"o\", label=\"sample\")\n",
    "\n",
    "x_exact = np.linspace(-2*np.pi, 2*np.pi, 200)\n",
    "plt.plot(x_exact, np.sin(x_exact), linestyle=\"--\", label=\"exact\")\n",
    "\n",
    "linear = interp1d(x, y, kind=\"linear\")\n",
    "quadratic = interp1d(x, y, kind=\"quadratic\")\n",
    "cubic = interp1d(x, y, kind=\"cubic\")\n",
    "\n",
    "x_int = np.linspace(-4, 4, 30)\n",
    "plt.plot(x_int, linear(x_int), label=\"linear\")\n",
    "plt.plot(x_int, quadratic(x_int), label=\"quadratic\")\n",
    "plt.plot(x_int, cubic(x_int), label=\"cubic\")\n",
    "plt.legend()\n",
    "```\n",
    "\n",
    "- Note that using the appropriate interpolation function also serves to smooth the data."
   ]
  },
  {
   "cell_type": "code",
   "execution_count": null,
   "metadata": {},
   "outputs": [],
   "source": []
  },
  {
   "cell_type": "markdown",
   "metadata": {},
   "source": [
    "# Optimization and root finding [`scipy.optimize`](https://docs.scipy.org/doc/scipy/reference/optimize.html#optimization-and-root-finding-scipy-optimize)\n",
    "\n",
    "- Provides a variety of minimization, root finding and fitting algorithms\n",
    "- The all reduce to answering the same question: what are the parameters of my function that best match the data?\n",
    "- Depending on the exact problem and method to solve, it allows to set conditions to the solutions to ensure they are meaningful, eg. if the parameter to find represent a mass, it should be possitive.\n",
    "\n",
    "## Root finding\n",
    "\n",
    "- Used to find the zeros of a function.\n",
    "- The simplest case is [`root_scalar`](https://docs.scipy.org/doc/scipy/reference/generated/scipy.optimize.root_scalar.html#scipy.optimize.root_scalar), to find the roots of a scalar function, eg: a polynomial or trignometric functions of 1 variable.\n",
    "- `root_scalar` will find one root (or none), but there might be others. \n",
    "\n",
    "```python\n",
    "from scipy.optimize import root_scalar\n",
    "root_scalar(np.cos, bracket=[0, 3])\n",
    "```"
   ]
  },
  {
   "cell_type": "code",
   "execution_count": null,
   "metadata": {},
   "outputs": [],
   "source": []
  },
  {
   "cell_type": "markdown",
   "metadata": {},
   "source": [
    "## Minimization\n",
    "\n",
    "- Used to find the minimum of a scalar function of one or more variables. \n",
    "- The umbrella fuction for that is `minimize`.\n",
    "- Note that maximization and root finding problems can both be written as a minimization problem.\n",
    "\n",
    "```python\n",
    "from scipy.optimize import minimize\n",
    "minimize(np.cos, x0=3)\n",
    "```\n",
    "\n",
    "- In general, there is no guarantee that the minimum will be the global minimum or, that it will find the minimum you're looking for."
   ]
  },
  {
   "cell_type": "code",
   "execution_count": null,
   "metadata": {},
   "outputs": [],
   "source": []
  },
  {
   "cell_type": "markdown",
   "metadata": {},
   "source": [
    "## Curve fitting\n",
    "\n",
    "- Fitting experimental data to a theoretical curve is also one type of minimization problem: you minimize the least squares difference between data and curve by choosing the appropriate parameters.\n",
    "- The general function for that is [`curve_fit`](https://docs.scipy.org/doc/scipy/reference/generated/scipy.optimize.curve_fit.html).\n",
    "- Let's fit some of the experimental data in the \"Data\" folder to a gaussian curve.\n",
    "\n",
    "```python\n",
    "from scipy.optimize import curve_fit\n",
    "\n",
    "xdata, ydata = np.loadtxt(\"Data/E373_019K.txt\", usecols=[0, 1], unpack=True)\n",
    "plt.plot(xdata, ydata, 'o', label=\"Data\")\n",
    "\n",
    "def gaussian(x, c, s, a):\n",
    "    return a * np.exp(-(x-c)**2/s**2)\n",
    "\n",
    "guess = (900, 20, 1.2e-9)\n",
    "plt.plot(xdata, gaussian(xdata, guess[0], guess[1], guess[2]), color=\"green\", label=\"Guess\")\n",
    "\n",
    "opt, cov = curve_fit(gaussian, xdata, ydata, guess)\n",
    "print(opt)\n",
    "\n",
    "plt.plot(xdata, gaussian(xdata, opt[0], opt[1], opt[2]), color=\"red\", label=\"Solution\")\n",
    "plt.legend()\n",
    "```\n"
   ]
  },
  {
   "cell_type": "code",
   "execution_count": null,
   "metadata": {},
   "outputs": [],
   "source": []
  },
  {
   "cell_type": "markdown",
   "metadata": {},
   "source": [
    "# Other tools\n",
    "\n",
    "- Scipy is massive and the usefulness of their tools largely depends on your field of interest. As a quick summary:\n",
    "\n",
    "### Integration and ODEs [`scipy.integrate`](https://docs.scipy.org/doc/scipy/reference/integrate.html)\n",
    "\n",
    "- Calculate integrals and integrate data\n",
    "- Solve ordinary differential equations\n",
    "\n",
    "### Linear algebra [`scipy.linalg`](https://docs.scipy.org/doc/scipy/reference/linalg.html)\n",
    "\n",
    "- Solves lineal algebra problmes like:\n",
    "    - matrix inversion\n",
    "    - solve system of equations\n",
    "    - solve eigenvalue problems\n",
    "- For all problems, it includes a variety of solvers"
   ]
  },
  {
   "cell_type": "code",
   "execution_count": null,
   "metadata": {},
   "outputs": [],
   "source": []
  }
 ],
 "metadata": {
  "kernelspec": {
   "display_name": "Python 3",
   "language": "python",
   "name": "python3"
  },
  "language_info": {
   "codemirror_mode": {
    "name": "ipython",
    "version": 3
   },
   "file_extension": ".py",
   "mimetype": "text/x-python",
   "name": "python",
   "nbconvert_exporter": "python",
   "pygments_lexer": "ipython3",
   "version": "3.7.6"
  }
 },
 "nbformat": 4,
 "nbformat_minor": 4
}
