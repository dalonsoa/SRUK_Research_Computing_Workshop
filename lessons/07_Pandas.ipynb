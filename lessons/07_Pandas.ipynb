{
 "cells": [
  {
   "cell_type": "markdown",
   "metadata": {},
   "source": [
    "# Episode 7: Data exploration with pandas\n",
    "\n",
    "**Teaching:** 30 min   \n",
    "**Practice:** 20 min   \n",
    "**Questions:**\n",
    "- How do I explore heterogeneous data?\n",
    "- how do I get statistical information out of my data?\n",
    "\n",
    "**Objectives:**\n",
    "- Describe what pandas is\n",
    "- Use pandas to get basic statistical information\n",
    "- Find correlations between variables\n",
    "- Clean the data in preparation for further analys\n",
    "\n",
    "**Key points:**\n",
    "- Pandas is the fundamental tool in Python for data science: machine learning and deep learning.\n",
    "- You can use it for much simpler data analys"
   ]
  },
  {
   "cell_type": "markdown",
   "metadata": {},
   "source": [
    "# Pandas\n",
    "\n",
    "- [Pandas](https://pandas.pydata.org/pandas-docs/stable/getting_started/index.html#intro-to-pandas) was created to leverage the data exploration and statistical capabilities of R\n",
    "- Indeed, Pandas documentation includes [detailed cheatsheets](https://pandas.pydata.org/pandas-docs/stable/getting_started/index.html#coming-from) to help you with the transition from R, among others. \n",
    "- While still a bit behind in terms of speciallized libraries in the field of bioinformatics, pandas has become the dominant, base tool for machine learning and deep learning.\n",
    "- Here we will explore a very minimal part of all of pandas capabilities. Have a look at the [User Guide](https://pandas.pydata.org/pandas-docs/stable/user_guide/index.html) for a complete description of pandas. \n",
    "- Pandas is imported with\n",
    "\n",
    "```python\n",
    "import pandas as pd\n",
    "```"
   ]
  },
  {
   "cell_type": "code",
   "execution_count": 1,
   "metadata": {},
   "outputs": [],
   "source": []
  },
  {
   "cell_type": "markdown",
   "metadata": {},
   "source": [
    "# DataFrame and Series\n",
    "\n",
    "- There are two basic building blocks\n",
    "\n",
    "### Series:\n",
    "\n",
    "- Is a one dimensional structure containing objects of the same type.\n",
    "- Typically contains the different observations of a single variable (eg: age of a population of subjects, or their sex, or their country or origin.)\n",
    "- An index identifies each of the observations. The index can be an integer number, but also dates, times or many other python objects."
   ]
  },
  {
   "cell_type": "code",
   "execution_count": null,
   "metadata": {},
   "outputs": [],
   "source": []
  },
  {
   "cell_type": "markdown",
   "metadata": {},
   "source": [
    "### Dataframe:\n",
    "\n",
    "- Is (normally) a two dimensional structure containing one or more Series that act as columns.\n",
    "- Each of the Series can have data of different type.\n",
    "- All series must have the same index. If originally, they didn't, `NaN` values are added. \n",
    "- Each column has a name that can be used to directly access that Series. "
   ]
  },
  {
   "cell_type": "code",
   "execution_count": null,
   "metadata": {},
   "outputs": [],
   "source": []
  },
  {
   "cell_type": "markdown",
   "metadata": {},
   "source": [
    "# Exploring data: The Titanic passengers\n",
    "\n",
    "- To explore the capabilities of pandas, we will use the (partial) [list of passengers of the Titanic](https://public.opendatasoft.com/explore/dataset/titanic-passengers/table/)\n",
    "- To start, load the file `titanic-passengers.csv` with\n",
    "\n",
    "```python\n",
    "df = pd.read_csv(\"Data/titanic-passengers.csv\", delimiter=\";\")\n",
    "```\n",
    "\n",
    "- Now, let's gather some general information on the data using `head`, `tail` and `info`"
   ]
  },
  {
   "cell_type": "code",
   "execution_count": null,
   "metadata": {},
   "outputs": [],
   "source": []
  },
  {
   "cell_type": "markdown",
   "metadata": {},
   "source": [
    "## Selecting and filtering data\n",
    "\n",
    "- Individual columns can be access using their name, either as dictionary keys or attributes.\n",
    "- Multiple columns can be selected at the same time enclosing their names in double square brackets.\n",
    "    \n",
    "```python\n",
    "df.Age\n",
    "df[\"Age\"]\n",
    "df[[\"Age\", \"Survived\"]]\n",
    "```\n",
    "- `loc` can be used to select a specific row or range of rows using the index\n",
    "\n",
    "```python\n",
    "df.loc[7]\n",
    "df.loc[35:37]\n",
    "```\n",
    "\n",
    "- `iloc` can be used to slect specific rows and columns, or individual elements, like in numpy\n",
    "\n",
    "```python\n",
    "df.iloc[7, 3]\n",
    "df.iloc[7:10, 3:5]\n",
    "```\n",
    "\n",
    "- Logical expresions can be used to do more complex selections\n",
    "\n",
    "```python\n",
    "df[df[\"Fare\"] > 100]\n",
    "df[df[\"Pclass\"].isin([2, 3])]\n",
    "df[(df[\"Age\"] > 50) & (df[\"Survived\"] == \"Yes\")]\n",
    "```"
   ]
  },
  {
   "cell_type": "code",
   "execution_count": null,
   "metadata": {},
   "outputs": [],
   "source": []
  },
  {
   "cell_type": "markdown",
   "metadata": {},
   "source": [
    "## Getting statistical information\n",
    "\n",
    "- Pandas provides the usual statistical metrics like mean, standard deviation, etc. [More info](https://pandas.pydata.org/pandas-docs/stable/getting_started/basics.html#descriptive-statistics). \n",
    "- A general summary of aggregated statistics can be obtained using `describe`.\n",
    "\n",
    "```python\n",
    "df[[\"Age\", \"Fare\"]].describe()\n",
    "```\n",
    "\n",
    "- Statistical information can also be obtained by grouping the data by category.\n",
    "\n",
    "```python\n",
    "df[[\"Age\", \"Sex\"]].groupby(\"Sex\").mean()\n",
    "df.groupby(\"Sex\")[\"Age\"].mean()\n",
    "```"
   ]
  },
  {
   "cell_type": "markdown",
   "metadata": {},
   "source": [
    "# Modifiying the data\n",
    "\n",
    "- So far we have only explored the data, but this often needs to be modified or curated before analysis.\n",
    "- A new series with new data based on that of other columns can be added as if the dataframe were a dictionary\n",
    "\n",
    "```python\n",
    "df[\"Children\"] = df[\"Age\"] <= 12\n",
    "```\n",
    "\n",
    "- Some Series appear to be numbers(like `Pclass`), or strings (`Sex`, `Survived`), but are actually a finite set of categories. We should change them to categorical data.\n",
    "\n",
    "```python\n",
    "df[\"Pclass\"] = df[\"Pclass\"].astype('category')\n",
    "df[\"Sex\"] = df[\"Sex\"].astype('category')\n",
    "df[\"Survived\"] = df[\"Survived\"].astype('category')\n",
    "```\n",
    "\n",
    "- The \"Embarked\" column indicates the city where the passenger embarked the Titanic, but it just sais \"S\", \"C\" and \"Q\", which is a bit obscure. Let's give it more human readable names.\n",
    "\n",
    "```python\n",
    "df.loc[(df.Embarked == \"S\"),\"Embarked\"]=\"Southampton\"\n",
    "df.loc[(df.Embarked == \"C\"),\"Embarked\"]=\"Cherbourg\"\n",
    "df.loc[(df.Embarked == \"Q\"),\"Embarked\"]=\"Queenstown\"\n",
    "```\n",
    "\n",
    "- Finally, for further analysis, it is convenient to have the survival information as numbers: 1 if survived and 0 otherwise\n",
    "\n",
    "```python\n",
    "df[\"Survived_num\"] = (df[\"Survived\"] == \"Yes\").astype(int)\n",
    "```"
   ]
  },
  {
   "cell_type": "code",
   "execution_count": 118,
   "metadata": {},
   "outputs": [],
   "source": []
  },
  {
   "cell_type": "markdown",
   "metadata": {},
   "source": [
    "# Would I survive?\n",
    "\n",
    "- Now, the whole point of data analysis is to learn new things. To do that properly, we should use proper machine learning packages (eg. [scikit-learn](https://scikit-learn.org/stable/index.html)), but we can get some hints using pandas.\n",
    "- For that, we use a [pivot_table](https://pandas.pydata.org/pandas-docs/stable/reference/api/pandas.pivot_table.html)\n",
    "    - Useful to find correlations between columns aggregating values from other column.\n",
    "    - Any number of columns can be compared to each other.\n",
    "    - The values to aggregate must be numeric.\n",
    "    \n",
    "```python\n",
    "df.pivot_table(values='Survived_num', index='Sex', columns=\"Pclass\", aggfunc=np.mean)\n",
    "```\n",
    "\n",
    "- To what extent are those numbers significative - or if they are relevant at all - requires further analysis, but just a quick check can tell us a lot:\n",
    "\n",
    "```python\n",
    "df.groupby(\"Sex\")[\"Pclass\"].value_counts()\n",
    "```"
   ]
  },
  {
   "cell_type": "code",
   "execution_count": null,
   "metadata": {},
   "outputs": [],
   "source": []
  },
  {
   "cell_type": "markdown",
   "metadata": {},
   "source": [
    "# Exercise 1\n",
    "\n",
    "- Use the pivot table to find other correlations for example:\n",
    "    - With the city passengers embarked, in addition to sex and Pclass.\n",
    "    - Use as aggregate function the standard deviation (np.std). What can you learn from that?"
   ]
  },
  {
   "cell_type": "code",
   "execution_count": null,
   "metadata": {},
   "outputs": [],
   "source": []
  }
 ],
 "metadata": {
  "kernelspec": {
   "display_name": "Python 3",
   "language": "python",
   "name": "python3"
  },
  "language_info": {
   "codemirror_mode": {
    "name": "ipython",
    "version": 3
   },
   "file_extension": ".py",
   "mimetype": "text/x-python",
   "name": "python",
   "nbconvert_exporter": "python",
   "pygments_lexer": "ipython3",
   "version": "3.7.6"
  }
 },
 "nbformat": 4,
 "nbformat_minor": 4
}
