{
 "cells": [
  {
   "cell_type": "markdown",
   "metadata": {},
   "source": [
    "# Episode 6: Plotting with Matplotlib\n",
    "\n",
    "**Teaching:** 20 min   \n",
    "**Practice:** 20 min   \n",
    "**Questions:**\n",
    "- How do I plot some data?\n",
    "- What kind of plots can I do?\n",
    "\n",
    "**Objectives:**\n",
    "- Describe what matplotlib is and how to use it.\n",
    "- Use different kind of plots to represent the data.\n",
    "- Add information to plots, like legend, axis labels, etc. \n",
    "- Create panels with multiple subplots.\n",
    "\n",
    "**Key points:**\n",
    "- Matplotlib is a very fleixble and extensive library to create all sorts of plots in python.\n",
    "- The documentation and examples gallery is very good: use it. \n"
   ]
  },
  {
   "cell_type": "markdown",
   "metadata": {},
   "source": [
    "# Matplotlib\n",
    "- This is the fundamental Python library for making graphics. \n",
    "- [There are other options](https://mode.com/blog/python-data-visualization-libraries ), but tend to be focus on a particular type of plots or applications, and are less flexible.\n",
    "- Matplotlib is increadibly flexible and lets you customized any aspect of a plot... althought not is not always straight forward.\n",
    "    - But it has an excellent documention: https://matplotlib.org/index.html \n",
    "- Some of the features are:\n",
    "    - Type of plots: \n",
    "        - lines and scatter\n",
    "        - bars and histograms\n",
    "        - violin and box plots\n",
    "        - bubble and pie charts\n",
    "        - polar plots\n",
    "        - contour and surface plots\n",
    "        - images and animations\n",
    "        - 3D plots\n",
    "    - Panels of plots, subplots, insets and secondary axes\n",
    "    - Text anotations, LaTex support for mathematical equations\n",
    "    - Drawing of geometrical figures, arrows"
   ]
  },
  {
   "cell_type": "markdown",
   "metadata": {},
   "source": [
    "### Setting up Matplotlib in Jupyter\n",
    "\n",
    "- To make sure that we all see plots in a similar way and of sensible size, run the following 3 commands, which do:\n",
    "    1. Tells Jupyter to plot the figures inline, as another cell\n",
    "    1. Imports the base matplotlib package, rarely used except...\n",
    "    1. To configure the default appearance of plots (resolution, font size, etc)\n",
    "\n",
    "```python\n",
    "%matplotlib inline\n",
    "import matplotlib\n",
    "matplotlib.rcParams['figure.dpi'] = 150\n",
    "```"
   ]
  },
  {
   "cell_type": "markdown",
   "metadata": {},
   "source": [
    "- The actual submodule of Matplotlib that contains the useful plotting functions is `pyplot`\n",
    "        \n",
    "```python\n",
    "import matplotlib.pyplot as plt\n",
    "```"
   ]
  },
  {
   "cell_type": "code",
   "execution_count": null,
   "metadata": {},
   "outputs": [],
   "source": []
  },
  {
   "cell_type": "markdown",
   "metadata": {},
   "source": [
    "## Line and scatter plots\n",
    "- The most basic kind of plot\n",
    "- Example:\n",
    "    - Create an array of angles between 0 and 4pi\n",
    "    - Plot their sine, cosine and tangent\n",
    "        - As lines with different colours\n",
    "        - As scatter with different symbols\n",
    "    - Add the legend\n",
    "    - Set the axis limits\n",
    "    - Add x axis and y axis labels\n",
    "    \n",
    "```python\n",
    "import numpy as np\n",
    "\n",
    "angles = np.linspace( ??? )\n",
    "plt.plot(angles, np.cos(angles), color=\"red\", linestyle=\"--\", label=\"cos\")\n",
    "plt.plot( ??? )\n",
    "plt.plot( ??? )\n",
    "plt.legend()\n",
    "plt.xlim(0, 4*np.pi)\n",
    "  ??? ( ??? )\n",
    "  ??? (\"Angle [rad]\")\n",
    "  ??? (\"Value [-]\")\n",
    "```"
   ]
  },
  {
   "cell_type": "code",
   "execution_count": null,
   "metadata": {},
   "outputs": [],
   "source": []
  },
  {
   "cell_type": "markdown",
   "metadata": {},
   "source": [
    "## Box and Violin plots\n",
    "- Commonly used to represent statistical data as well as its dispersion\n",
    "- Example:\n",
    "- Create a list of random sets of data with a gaussian distributions of different central value and standard deviation\n",
    "\n",
    "```python\n",
    "my_data = [np.random.normal(i, i, 1000) for i in range(1, 10)]\n",
    "```\n",
    "    \n",
    "- Plot the data using a box plot\n",
    "\n",
    "```python\n",
    "plt.boxplot(my_data)\n",
    "```\n",
    "\n",
    "- Repeat with a violin plot\n",
    "\n",
    "```python\n",
    "plt.violinplot(my_data)\n",
    "```\n",
    "\n",
    "- What if we put the together?"
   ]
  },
  {
   "cell_type": "code",
   "execution_count": null,
   "metadata": {},
   "outputs": [],
   "source": []
  },
  {
   "cell_type": "markdown",
   "metadata": {},
   "source": [
    "## Histograms\n",
    "- Similar to the one before, but with a different representation\n",
    "- Example:\n",
    "    - Use the data of the previous example to plot a histogram with\n",
    "\n",
    "```python\n",
    "plt.hist(my_data)\n",
    "```    "
   ]
  },
  {
   "cell_type": "code",
   "execution_count": null,
   "metadata": {},
   "outputs": [],
   "source": []
  },
  {
   "cell_type": "markdown",
   "metadata": {},
   "source": [
    "## Contour plot\n",
    "- Contour maps, typically representing a third dimension with a range of colours\n",
    "- Example:\n",
    "    - Load all the files from one of the sample.\n",
    "\n",
    "```python\n",
    "from glob import glob\n",
    "files = sorted(glob(\"*/E373*.txt\"))\n",
    "```\n",
    "    - Stack the second column to form a 2D array.\n",
    "\n",
    "```python\n",
    "data = []\n",
    "for f in files:\n",
    "    col = np.loadtxt(f, usecols=1)\n",
    "    data.append(col)\n",
    "my_data = np.stack(data)\n",
    "```\n",
    "    - Plot the data using:\n",
    "\n",
    "```python\n",
    "plot.imshow(my_data)\n",
    "plot.contour(my_data)\n",
    "plot.contourf(my_data)\n",
    "```\n",
    "            \n",
    "    - What's the difference among the three of them?"
   ]
  },
  {
   "cell_type": "code",
   "execution_count": null,
   "metadata": {},
   "outputs": [],
   "source": []
  },
  {
   "cell_type": "markdown",
   "metadata": {},
   "source": [
    "# Panels\n",
    "\n",
    "- A figure can contain any number of subplots, with different axes, scales and aspect rations.\n",
    "- Simple configurations with [rows and columns of plots](https://matplotlib.org/devdocs/gallery/subplots_axes_and_figures/subplots_demo.html) can be achieved with the command `plt.subplots`.\n",
    "- Really [complex layouts](https://matplotlib.org/3.2.1/tutorials/intermediate/gridspec.html) can be created using gridspec.\n",
    "- Example:\n",
    "    - Plot the 3 colour plots above together with another one of lines in a single figure of 2x2 subplots\n",
    "    \n",
    "    "
   ]
  },
  {
   "cell_type": "code",
   "execution_count": null,
   "metadata": {},
   "outputs": [],
   "source": []
  },
  {
   "cell_type": "markdown",
   "metadata": {},
   "source": [
    "# Advanced ploting: 3D plots\n",
    "\n",
    "```python\n",
    "from mpl_toolkits.mplot3d import Axes3D\n",
    "from matplotlib import cm\n",
    "import numpy as np\n",
    "\n",
    "%matplotlib tk\n",
    "\n",
    "fig = plt.figure()\n",
    "ax = fig.gca(projection='3d')\n",
    "\n",
    "x = np.linspace(0, 4*np.pi, 100)\n",
    "X, Y = np.meshgrid(x, x)\n",
    "Z = np.sin(X)*np.cos(Y)\n",
    "\n",
    "ax.plot_surface(X, Y, Z, cmap=cm.coolwarm, linewidth=0, antialiased=False)\n",
    "```"
   ]
  },
  {
   "cell_type": "code",
   "execution_count": null,
   "metadata": {},
   "outputs": [],
   "source": []
  }
 ],
 "metadata": {
  "kernelspec": {
   "display_name": "Python 3",
   "language": "python",
   "name": "python3"
  },
  "language_info": {
   "codemirror_mode": {
    "name": "ipython",
    "version": 3
   },
   "file_extension": ".py",
   "mimetype": "text/x-python",
   "name": "python",
   "nbconvert_exporter": "python",
   "pygments_lexer": "ipython3",
   "version": "3.7.6"
  }
 },
 "nbformat": 4,
 "nbformat_minor": 4
}
