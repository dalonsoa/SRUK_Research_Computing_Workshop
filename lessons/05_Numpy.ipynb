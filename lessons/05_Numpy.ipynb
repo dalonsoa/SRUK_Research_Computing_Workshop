{
 "cells": [
  {
   "cell_type": "markdown",
   "metadata": {},
   "source": [
    "# Lesson 5: Numpy\n",
    "\n",
    "**Teaching:** 20 min   \n",
    "**Practice:** 20 min   \n",
    "**Questions:**\n",
    "- How do you manipulate large amounts of data?\n",
    "- How do you deal with multi-dimensional structures?\n",
    "- How do you get information on collections of data?\n",
    "\n",
    "**Objectives:**\n",
    "- Describe what arrays are.\n",
    "- Apply different methods of creating arrays.\n",
    "- Use numpy tools like stack, transpose, concatenate, etc. to manipulate arrays. \n",
    "- Read and write arrays to/from disk.\n",
    "\n",
    "**Key points:**\n",
    "- Arrays are structures with one or more dimensions that contain data of the same type.\n",
    "- Arrays can be manipulated and use in mathematical opperations like any other number.\n"
   ]
  },
  {
   "cell_type": "markdown",
   "metadata": {},
   "source": [
    "# Numpy and SciPy (later lesson)\n",
    "\n",
    "- More interesting for people working in **physical sciences and engineering**.\n",
    "- **Numpy** and **SciPy** are [the Python answer to **MATLAB** users](https://docs.scipy.org/doc/numpy/user/numpy-for-matlab-users.html).\n",
    "- Numpy is **THE PACKAGE** to deal with any kind of multidimensional, normally numerical data (although it works with any data types).\n",
    "- In combination with SciPy, it can be used to solve:\n",
    "    - Linear algebra problems\n",
    "    - Fourier transform problems\n",
    "    - Random number capabilities\n",
    "    - Ordinary and partial diferential equations\n",
    "    - Equations root finding\n",
    "    - Optimization routines\n",
    "    - Fitting experimental data\n",
    "- Numpy package is normally imported with:\n",
    "\n",
    "```python\n",
    "import numpy as np\n",
    "```"
   ]
  },
  {
   "cell_type": "code",
   "execution_count": 1,
   "metadata": {},
   "outputs": [],
   "source": []
  },
  {
   "cell_type": "markdown",
   "metadata": {},
   "source": [
    "## Creating and using arrays\n",
    "- They are the basic Numpy structure: collections of data **of the same type**, potentially with multiple dimensions.\n",
    "- There are several ways of creating arrays:\n",
    "\n",
    "    - *n* numbers linearly spaced between *start* and *stop*\n",
    "    \n",
    "``` python\n",
    "np.linspace(start, stop, n) \n",
    "```     "
   ]
  },
  {
   "cell_type": "code",
   "execution_count": null,
   "metadata": {},
   "outputs": [],
   "source": []
  },
  {
   "cell_type": "markdown",
   "metadata": {},
   "source": [
    "    - numbers between *start* and *stop* separated by *step*\n",
    "    \n",
    "``` python\n",
    "np.arange(start, stop, step)\n",
    "```  "
   ]
  },
  {
   "cell_type": "code",
   "execution_count": null,
   "metadata": {},
   "outputs": [],
   "source": []
  },
  {
   "cell_type": "markdown",
   "metadata": {},
   "source": [
    "    - Array with shape `shape` filled with zeros, ones or random numbers... or anything!\n",
    "    \n",
    "``` python\n",
    "np.zeros(shape)  \n",
    "np.ones(shape)\n",
    "np.random.random(shape)\n",
    "np.full(shape, fill_value)\n",
    "```"
   ]
  },
  {
   "cell_type": "code",
   "execution_count": null,
   "metadata": {},
   "outputs": [],
   "source": []
  },
  {
   "cell_type": "markdown",
   "metadata": {},
   "source": [
    "- Arrays **ARE NOT LISTS**, although they can be created out of lists\n",
    "\n",
    "``` python\n",
    "np.array(my_list)\n",
    "```"
   ]
  },
  {
   "cell_type": "code",
   "execution_count": null,
   "metadata": {},
   "outputs": [],
   "source": []
  },
  {
   "cell_type": "markdown",
   "metadata": {},
   "source": [
    "# Manipulating arrays\n",
    "\n",
    "- Arrays can be used in whatever mathematical operation where the data type they contain can be used.\n",
    "- Typically, arrays are used as a whole, being the individual elements not so important.\n",
    "- Some common manipulations:\n",
    "\n",
    "### reshape\n",
    "\n",
    "- Change the shape of the array without affecting the number of elements:\n",
    "\n",
    "```python\n",
    "np.arange(0, 10, 1).reshape((2, 5))\n",
    "```"
   ]
  },
  {
   "cell_type": "markdown",
   "metadata": {},
   "source": [
    "### transpose\n",
    "\n",
    "- Using `.T` notation: Invert the first and last dimension. \n",
    "- Using `.transpose` if the array has more and you need an explicit order. \n",
    "\n",
    "```python\n",
    "a = np.ones((4, 3, 2))\n",
    "b = a.T\n",
    "c = a.transpose((1, 0, 2))\n",
    "print(a.shape, b.shape, c.shape)\n",
    "```"
   ]
  },
  {
   "cell_type": "markdown",
   "metadata": {},
   "source": [
    "### stack\n",
    "\n",
    "- Combine arrays along a **new** dimension (by default, this will become the first one)\n",
    "\n",
    "```python\n",
    "a = np.ones((4, 3, 2))\n",
    "b = np.stack((a, a))\n",
    "c = np.stack((a, a), axis=1)\n",
    "print(a.shape, b.shape, c.shape)\n",
    "```"
   ]
  },
  {
   "cell_type": "markdown",
   "metadata": {},
   "source": [
    "### concatenate\n",
    "\n",
    "- Combine arrays along an **existing** dimension (by default, this is the first one)\n",
    "- The shape of the original arrays must be the same. \n",
    "\n",
    "```python\n",
    "a = np.ones((4, 3, 2))\n",
    "b = np.concatenate((a, a))\n",
    "c = np.concatenate((a, a), axis=1)\n",
    "print(a.shape, b.shape, c.shape)\n",
    "```\n",
    "\n",
    "# Accesing elements of an array\n",
    "\n",
    "- If you need to access the elements of an array, you use the square bracket [] notation. \n",
    "- Depending on the number of dimensions of the array and how many elements you want to access to, this can be used in a number of ways.\n",
    "\n",
    "```python\n",
    "a = np.arange(0, 10).reshape((2, 5))\n",
    "print(a)\n",
    "\n",
    "print(\"First row: \", a[0])\n",
    "print(\"First column: \", a[:, 0])\n",
    "print(\"Row 1, columns 1-3: \", a[1, 1:4])\n",
    "```"
   ]
  },
  {
   "cell_type": "code",
   "execution_count": null,
   "metadata": {},
   "outputs": [],
   "source": []
  },
  {
   "cell_type": "markdown",
   "metadata": {},
   "source": [
    "# Loading and saving arrays\n",
    "- Arrays can be loaded from and save to text files\n",
    "\n",
    "```python\n",
    "my_array = np.loadtxt('path/to_my_file.txt')\n",
    "np.savetxt('path/to_my_file.txt', my_array)\n",
    "```\n",
    "\n",
    "- Only 1D or 2D arrays can be saved this way.\n",
    "- [Optional arguments](https://numpy.org/doc/1.18/reference/generated/numpy.loadtxt.html) to these functions let you skip rows, define the separator between columns, set the headers, etc."
   ]
  },
  {
   "cell_type": "code",
   "execution_count": null,
   "metadata": {},
   "outputs": [],
   "source": []
  },
  {
   "cell_type": "markdown",
   "metadata": {},
   "source": [
    "# Exercise 1\n",
    "\n",
    "- Load one of the files inside the \"Data\" directory as a numpy array. \n",
    "    - What's the shape of the array? \n",
    "    - How many columns are there? And rows?"
   ]
  },
  {
   "cell_type": "code",
   "execution_count": null,
   "metadata": {},
   "outputs": [],
   "source": []
  },
  {
   "cell_type": "markdown",
   "metadata": {},
   "source": [
    "# Exercise 2\n",
    "\n",
    "- Load another file of the same sample. \n",
    "    - Add together the second column of both files.\n",
    "    - Save the result to another file."
   ]
  },
  {
   "cell_type": "code",
   "execution_count": null,
   "metadata": {},
   "outputs": [],
   "source": []
  }
 ],
 "metadata": {
  "kernelspec": {
   "display_name": "Python 3",
   "language": "python",
   "name": "python3"
  },
  "language_info": {
   "codemirror_mode": {
    "name": "ipython",
    "version": 3
   },
   "file_extension": ".py",
   "mimetype": "text/x-python",
   "name": "python",
   "nbconvert_exporter": "python",
   "pygments_lexer": "ipython3",
   "version": "3.7.6"
  }
 },
 "nbformat": 4,
 "nbformat_minor": 4
}
