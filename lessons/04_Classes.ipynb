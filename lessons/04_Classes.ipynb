{
 "cells": [
  {
   "cell_type": "markdown",
   "metadata": {},
   "source": [
    "# Lesson 4: Classes in Python\n",
    "**Teaching:** 20 min   \n",
    "**Practice:** 20 min   \n",
    "**Questions:**\n",
    "- What is a class?\n",
    "- How do I create a class?\n",
    "- How do I use classes in my programs?\n",
    "\n",
    "**Objectives:**\n",
    "- Describe what encapsulation means\n",
    "- Differentiate between classes and object instances\n",
    "- Describe what instance attributes and methods are\n",
    "- Describe what class attributes are\n",
    "- Create classes in Python\n",
    "- Use methods and attributes in a program\n",
    "\n",
    "**Key points:**\n",
    "- Any object in Python is an instance - i.e. a concrete realization - of a class\n",
    "- A class combines attributes and behaviors that have some conceptual relationship with each other"
   ]
  },
  {
   "cell_type": "markdown",
   "metadata": {},
   "source": [
    "# What's Object Oriented Programming?\n",
    "\n",
    "- [Object Oriented Programming (OOP)](https://en.wikipedia.org/wiki/Object-oriented_programming) is a programming paradigm in which the flow of a program is controlled by the exchange of information and modification of the state of individual units called *objects*.\n",
    "- These objects bundle together properties and behaviors that have some relationship with each other.\n",
    "- In many aspects, OOP mimics how real-life objects are and interact with each other.\n",
    "- Python is a multi-paradigm programing language, meaning it can be used in OOP, but also in [functional programming](https://en.wikipedia.org/wiki/Functional_programming), [procedureal programming](https://en.wikipedia.org/wiki/Procedural_programming), etc. (very often) mixing them to achieve different purposes on differt parts of the program."
   ]
  },
  {
   "cell_type": "markdown",
   "metadata": {},
   "source": [
    "> ## Example: A cup of tea\n",
    ">\n",
    "> A cup of tea is an object with several properties and behaviors, i.e. actions that can be executed on them:\n",
    "> - Properties:\n",
    ">   - **hot**: if the tea is hot or not\n",
    ">   - **full**: if the cup is full or not\n",
    ">   - **kind**: the kind of tea. Is it english breakfast or Earl Grey?\n",
    "> - Actions:\n",
    ">   - **drink**: you drink the tea and the cup becomes empty\n",
    ">   - **warm**: you warm the tea, becoming hot.\n",
    ">   - **refill**: you refill the cup with more tea\n",
    ">"
   ]
  },
  {
   "cell_type": "markdown",
   "metadata": {},
   "source": [
    "## Encapsulation\n",
    "\n",
    "- Encapsulation is one of the basic principles of OOP by which an *entity* bundles together properties (or *attributes* as they are called in Python) and behaviors (*methods*) related to the properties that execute actions.\n",
    "- This entity is called a *class*.\n",
    "- Encapsulation enables a class to present an interface on how an object belonging to that class (see below) can be acted upon, hiding from the outside world any implementation details and other properties that need not to be known outside that class.\n",
    "- All variables and functions defined within a class that are not attributes or methods are not accessible outside of the class.\n",
    "- Attributes and methods can be accessed externally by using the dot notation, eg. `object_name.my_attribute` or `object_name.my_method`."
   ]
  },
  {
   "cell_type": "markdown",
   "metadata": {},
   "source": [
    "## Classes and instances\n",
    "\n",
    "- In Python, classes are created by using the keyword `class`, followed by the name of the class (using CamelCase) and the parent class in parenthesis, if any (more on this in the next episode)."
   ]
  },
  {
   "cell_type": "code",
   "execution_count": null,
   "metadata": {},
   "outputs": [],
   "source": [
    "class MyClass:\n",
    "    \"\"\" A simple example class. \"\"\"\n",
    "    pass    # <- `pass` just indicates python to do nothing"
   ]
  },
  {
   "cell_type": "markdown",
   "metadata": {},
   "source": [
    "- This code creates a class, but to use it, you must create an **instance** of the class, which is also called an **object**:"
   ]
  },
  {
   "cell_type": "code",
   "execution_count": null,
   "metadata": {},
   "outputs": [],
   "source": [
    "a = MyClass()\n",
    "b = MyClass()\n",
    "\n",
    "print(f\"'a' is an instance of the class {type(a)}\")\n",
    "print(f\"'b' is an instance of the class {type(b)}\")\n",
    "print(f\"Are 'a' and 'b' equal? {a==b}\")"
   ]
  },
  {
   "cell_type": "markdown",
   "metadata": {},
   "source": [
    "- Here, both `a` and `b` are instances of the class `MyClass`, but they are different objects."
   ]
  },
  {
   "cell_type": "markdown",
   "metadata": {},
   "source": [
    "> ## Built-in classes (or types)\n",
    "> Python built-in types like `list`, `tuple`, `dict`, `str` and all the numeric types are\n",
    "> classes, and the variables that use them are instances of those classes. To what classes\n",
    "> do the following variables belong?\n",
    ">\n",
    "> ```python\n",
    "> a = [1, 2, 3]\n",
    "> b = (1, 2, 3)\n",
    "> c = {1, 2, 3}\n",
    "> d = 42\n",
    "> e = {\"name\": \"Fluffy\", \"species\": \"Three-Headed Dog\"}\n",
    "> f = True\n",
    "> g = \"My taylor is rich!\"\n",
    "> ```"
   ]
  },
  {
   "cell_type": "code",
   "execution_count": null,
   "metadata": {},
   "outputs": [],
   "source": []
  },
  {
   "cell_type": "markdown",
   "metadata": {},
   "source": [
    "## Methods\n",
    "\n",
    "- The above example class has no attributes nor methods, which is pretty useless.\n",
    "- When creating a class, you must also define its attributes and methods, so the rest of the code can interact with it.\n",
    "- Methods define the behavior of the class: the functions (or actions) that can be used to interact with the class.\n",
    "- They are defined like any other function in Python, using the `def` keyword, but the first input parameter that has a special meaning."
   ]
  },
  {
   "cell_type": "code",
   "execution_count": null,
   "metadata": {},
   "outputs": [],
   "source": [
    "class MySecondClass:\n",
    "    \"\"\" A simple example class with a method. \"\"\"\n",
    "\n",
    "    def say_hello(self, name):\n",
    "        print(f\"Hello {name}! This instance is {self}\")"
   ]
  },
  {
   "cell_type": "markdown",
   "metadata": {},
   "source": [
    "- Here, `MySecondClass` has a method, `say_hello`, with two input parameters:\n",
    "    - The first one, usually called `self` refers to the specific instance of the class being used. It is compulsory: **all methods within a class must take `self` as its first argument.**\n",
    "    - The second argument is just a parameter used within the method, like in any regular Python function.\n",
    "- As with any function in Python, methods can have any number of positional and keyword arguments, as well as returning values using the keyword `return`.\n",
    "- To call a method of a class, use the dot notation `.` to separate the name of the object and the method being invoked.\n",
    "- The value for the first argument, `self`, is assigned automatically to the instance being used and **must not be provided**:"
   ]
  },
  {
   "cell_type": "code",
   "execution_count": null,
   "metadata": {},
   "outputs": [],
   "source": [
    "a = MySecondClass()\n",
    "b = MySecondClass()\n",
    "\n",
    "a.say_hello(\"Diego\")\n",
    "b.say_hello(\"Diego\")"
   ]
  },
  {
   "cell_type": "markdown",
   "metadata": {},
   "source": [
    "- As you can see by the numbers at the end, `a` and `b` are two different instances of class `MySecondClass`."
   ]
  },
  {
   "cell_type": "markdown",
   "metadata": {},
   "source": [
    "## Attributes\n",
    "\n",
    "- Attributes are the properties of a class, the variables that can be read and modified (usually).\n",
    "- There are two types of attributes: **class attributes** and **instance attributes**.\n",
    "- **class attributes** are linked to the class itself and all instance objects of the class will share the same values. They are somewhat useful, but can also lead to errors (see callout at the end of this episode)\n",
    "\n",
    "\n",
    "### Instance attributes\n",
    "\n",
    "- They are properties specific to the instance.\n",
    "- Each instance has its own copy and changing the value in one instance does not affect the value of that property in the other instances.\n",
    "- Access attributes (both class and instance attributes) using the same dot notation as for methods, but without parenthesis.\n",
    "- They are defined within a special `__init__` method, called a constructor.\n",
    "- The `__init__` method is automatically called when creating an instance of a class.\n",
    "- As with any other method, the first argument is `self` and it can have any number of positional and keyword arguments.\n",
    "- To create instance attributes, dot notation `.` is used with `self` as the instance object."
   ]
  },
  {
   "cell_type": "code",
   "execution_count": 7,
   "metadata": {},
   "outputs": [
    {
     "name": "stdout",
     "output_type": "stream",
     "text": [
      "Apple models are: ['iMac', 'MacBook Pro'] while Microsoft's are ['Surface Pro']\n",
      "Apple models are: ['iMac', 'MacBook Pro'] while Microsoft's are ['Surface Pro', 'Surface Lite']\n"
     ]
    }
   ],
   "source": [
    "class Computers:\n",
    "    \"\"\" A simple class explaining instance attributes. \"\"\"\n",
    "\n",
    "    def __init__(self, brand, models):\n",
    "        self.brand = brand\n",
    "        self.models = models\n",
    "\n",
    "apple = Computers(\"Apple\", [\"iMac\", \"MacBook Pro\"])\n",
    "microsoft = Computers(\"Microsoft\", [\"Surface Pro\"])\n",
    "\n",
    "print(f\"Apple models are: {apple.models} while Microsoft's are {microsoft.models}\")\n",
    "\n",
    "microsoft.models.append(\"Surface Lite\")\n",
    "print(f\"Apple models are: {apple.models} while Microsoft's are {microsoft.models}\")"
   ]
  },
  {
   "cell_type": "markdown",
   "metadata": {},
   "source": [
    "## Restricted members\n",
    "\n",
    "- Contrary to other languages, in Python there are not really `public` and `private`members (attributes and methods).\n",
    "- However, by convention, all attributes and methods starting by a single underscore `_` are considered private, only to be used within the class.\n",
    "- **Restricted attributes** are useful to keep track of the internal state of the instance, as internal variables, etc. They do not contain information immediately useful outside of the class.\n",
    "- Likewise, **restricted methods** are meant to be called internally within the class, maybe used to run some intermediate calculations, and do not form part of the public interface of the class."
   ]
  },
  {
   "cell_type": "code",
   "execution_count": 8,
   "metadata": {},
   "outputs": [],
   "source": [
    "class HotOrCold:\n",
    "\n",
    "    def __init__(threshold):\n",
    "        \"\"\"Threshold is the temperature limit between hot and cold.\"\"\"\n",
    "        self.threshold = threshold\n",
    "        self.is_hot = False\n",
    "        self._temperature = 20\n",
    "        self._update_status()\n",
    "\n",
    "    def warm(self, time):\n",
    "        self._temperature += 50 * time\n",
    "        self._update_status()\n",
    "\n",
    "    def cool(self, time):\n",
    "        self._temperature = max(-273, self._temperature - 50 * time)\n",
    "        self._update_status()\n",
    "\n",
    "    def _update_status(self):\n",
    "        self.is_hot = self._temperature > self.threshold"
   ]
  },
  {
   "cell_type": "markdown",
   "metadata": {},
   "source": [
    "- In this `HotOrCold` class, `_temperature` is a restricted attribute and `_update_status` is a restricted method.\n",
    "- The user is not expected to set the temperature manually, but just to modify it by calling `warm` and `cool`, as well as qualitatively finding if it is hot or not by checking the value of `is_hot`."
   ]
  },
  {
   "cell_type": "code",
   "execution_count": null,
   "metadata": {},
   "outputs": [],
   "source": []
  },
  {
   "cell_type": "markdown",
   "metadata": {},
   "source": [
    "## Special methods and attributes\n",
    "\n",
    "- Special methods and attributes are enclosed between a double underscore `__`.\n",
    "- They are not meant to be called directly by the user (neither interally or externally), but rather are used by Python when something is required from a class or an instance of a class.\n",
    "- Some common methods and attributes present in most classes are:\n",
    "    - `__init__` is the method called when creating a new instance of a class.\n",
    "    - `__repr__` is a method called when we require to have a representation of the object, for example when printing the object with `print(microsoft)`.\n",
    "    - `__dict__` is an attribute that contains a dictionary with all the attributes and methods available for that object. Note: It does not include any attribute or method inherited from the parent class."
   ]
  },
  {
   "cell_type": "code",
   "execution_count": null,
   "metadata": {},
   "outputs": [],
   "source": []
  }
 ],
 "metadata": {
  "kernelspec": {
   "display_name": "Python 3",
   "language": "python",
   "name": "python3"
  },
  "language_info": {
   "codemirror_mode": {
    "name": "ipython",
    "version": 3
   },
   "file_extension": ".py",
   "mimetype": "text/x-python",
   "name": "python",
   "nbconvert_exporter": "python",
   "pygments_lexer": "ipython3",
   "version": "3.8.3"
  }
 },
 "nbformat": 4,
 "nbformat_minor": 4
}
