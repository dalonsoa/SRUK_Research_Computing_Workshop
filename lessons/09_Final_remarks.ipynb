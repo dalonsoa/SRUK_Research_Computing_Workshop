{
 "cells": [
  {
   "cell_type": "markdown",
   "metadata": {},
   "source": [
    "# Final remarks\n",
    "\n",
    "- This is just the begining, the most basic tools that have been around for a while. Now you need to practice and explore the rest.\n",
    "- If you do not know something, check the documentation, use Google, use StackOverflow: the research software community is very open and welcoming.\n",
    "- A very large collections of Python (and non-python) packages for research in a number of disciplines can be found as\n",
    "    - [NumFOCUS Affiliated projects](https://numfocus.org/sponsored-projects)\n",
    "    - [NumFOCUS Sponsored projects](https://numfocus.org/sponsored-projects/affiliated-projects) (numpy, matplotlib, scipy and pandas are here)\n",
    "- Here are some useful packages:\n",
    "\n",
    "## Machine and Deep learning\n",
    "\n",
    "- [scikit-learn](https://scikit-learn.org/stable/index.html)\n",
    "- [pytorch](https://pytorch.org)\n",
    "- [tensorflow](https://www.tensorflow.org)\n",
    "\n",
    "\n",
    "## Image analysis\n",
    "\n",
    "- [scikit-image](https://scikit-image.org)\n",
    "- [openCV](https://pypi.org/project/opencv-python/)\n",
    "\n"
   ]
  },
  {
   "cell_type": "code",
   "execution_count": null,
   "metadata": {},
   "outputs": [],
   "source": []
  }
 ],
 "metadata": {
  "kernelspec": {
   "display_name": "Python 3",
   "language": "python",
   "name": "python3"
  },
  "language_info": {
   "codemirror_mode": {
    "name": "ipython",
    "version": 3
   },
   "file_extension": ".py",
   "mimetype": "text/x-python",
   "name": "python",
   "nbconvert_exporter": "python",
   "pygments_lexer": "ipython3",
   "version": "3.7.6"
  }
 },
 "nbformat": 4,
 "nbformat_minor": 4
}
